{
 "cells": [
  {
   "cell_type": "markdown",
   "metadata": {
    "id": "5w-YN6vTnc9i"
   },
   "source": [
    "# PyTorch workflow\n",
    "\n",
    "Let's explore an example PyTorch end-to-end workflow.\n",
    "\n",
    "Resources:\n",
    "* [Groud truth notebook](https://github.com/mrdbourke/pytorch-deep-learning/blob/main/01_pytorch_workflow.ipynb)\n",
    "* [Book version of notebook](https://www.learnpytorch.io/01_pytorch_workflow/)"
   ]
  },
  {
   "cell_type": "code",
   "execution_count": 1,
   "metadata": {
    "executionInfo": {
     "elapsed": 11657,
     "status": "ok",
     "timestamp": 1730229781697,
     "user": {
      "displayName": "Paola Rocha",
      "userId": "05398982671622189547"
     },
     "user_tz": 360
    },
    "id": "dPUj3jBMnN3X"
   },
   "outputs": [],
   "source": [
    "import torch\n",
    "from torch import nn  # nn contains all of pytorch's building blocks"
   ]
  }
 ],
 "metadata": {
  "colab": {
   "authorship_tag": "ABX9TyOZhvqo96ARq+0LIPTO3zdW",
   "provenance": []
  },
  "kernelspec": {
   "display_name": "venv",
   "language": "python",
   "name": "python3"
  },
  "language_info": {
   "codemirror_mode": {
    "name": "ipython",
    "version": 3
   },
   "file_extension": ".py",
   "mimetype": "text/x-python",
   "name": "python",
   "nbconvert_exporter": "python",
   "pygments_lexer": "ipython3",
   "version": "3.10.15"
  }
 },
 "nbformat": 4,
 "nbformat_minor": 0
}
