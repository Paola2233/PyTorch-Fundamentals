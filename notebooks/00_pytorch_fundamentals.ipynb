{
 "cells": [
  {
   "cell_type": "markdown",
   "metadata": {
    "id": "5OJM3jcd8jLj"
   },
   "source": [
    "## 00. PyTorch Fundamentals\n",
    "\n",
    "* [Resource notebook](https://www.learnpytorch.io/00_pytorch_fundamentals/)\n",
    "* [Additional resources](https://pytorch.org/tutorials/beginner/basics/intro.html)"
   ]
  },
  {
   "cell_type": "code",
   "execution_count": 1,
   "metadata": {
    "executionInfo": {
     "elapsed": 6182,
     "status": "ok",
     "timestamp": 1730227503137,
     "user": {
      "displayName": "Paola Rocha",
      "userId": "05398982671622189547"
     },
     "user_tz": 360
    },
    "id": "sG-sUYG_7SSF"
   },
   "outputs": [],
   "source": [
    "# Loading dependecies\n",
    "import torch"
   ]
  },
  {
   "cell_type": "code",
   "execution_count": 2,
   "metadata": {
    "colab": {
     "base_uri": "https://localhost:8080/"
    },
    "executionInfo": {
     "elapsed": 18,
     "status": "ok",
     "timestamp": 1730227503138,
     "user": {
      "displayName": "Paola Rocha",
      "userId": "05398982671622189547"
     },
     "user_tz": 360
    },
    "id": "VZB8iUbp8NVZ",
    "outputId": "2bd775c4-4086-4deb-f45a-98888c7e1656"
   },
   "outputs": [
    {
     "name": "stdout",
     "output_type": "stream",
     "text": [
      "2.5.1+cu118\n"
     ]
    }
   ],
   "source": [
    "print(torch.__version__)"
   ]
  },
  {
   "cell_type": "markdown",
   "metadata": {
    "id": "-CdE41Oo-8tm"
   },
   "source": [
    "## Introduction of tensors\n",
    "\n",
    "> In mathematics, a tensor is an algebraic object that describes a multilinear relationship between sets of algebraic objects related to a vector space. Tensors may map between different objects such as vectors, scalars, and even other tensors. There are many types of tensors, including scalars and vectors (which are the simplest tensors), dual vectors, multilinear maps between vector spaces, and even some operations such as the dot product.\n",
    "(...)\n",
    "A tensor may be represented as a (potentially multidimensional) array.\n",
    "[Reference](https://en.wikipedia.org/wiki/Tensor)."
   ]
  },
  {
   "cell_type": "markdown",
   "metadata": {
    "id": "QVuufsJX_D6_"
   },
   "source": [
    "Creating tensors\n",
    "\n",
    "[torch.Tensor](https://pytorch.org/docs/stable/tensors.html#torch-tensor)"
   ]
  },
  {
   "cell_type": "code",
   "execution_count": 3,
   "metadata": {
    "colab": {
     "base_uri": "https://localhost:8080/"
    },
    "executionInfo": {
     "elapsed": 16,
     "status": "ok",
     "timestamp": 1730227503138,
     "user": {
      "displayName": "Paola Rocha",
      "userId": "05398982671622189547"
     },
     "user_tz": 360
    },
    "id": "1pWN6XU0_DgW",
    "outputId": "69b6ae87-415a-47c8-fd17-a0bbc201b4d6"
   },
   "outputs": [
    {
     "name": "stdout",
     "output_type": "stream",
     "text": [
      "To get scalar as int: 7\n",
      "To get scalar dimension: 0\n"
     ]
    }
   ],
   "source": [
    "# Scalar\n",
    "scalar = torch.tensor(7)\n",
    "print(f\"To get scalar as int: {scalar.item()}\")\n",
    "print(f\"To get scalar dimension: {scalar.ndim}\")"
   ]
  },
  {
   "cell_type": "code",
   "execution_count": 4,
   "metadata": {
    "colab": {
     "base_uri": "https://localhost:8080/"
    },
    "executionInfo": {
     "elapsed": 14,
     "status": "ok",
     "timestamp": 1730227503138,
     "user": {
      "displayName": "Paola Rocha",
      "userId": "05398982671622189547"
     },
     "user_tz": 360
    },
    "id": "-hpbAtOnBRam",
    "outputId": "6ee31a80-4e38-4bc7-f6e3-6a18a446671a"
   },
   "outputs": [
    {
     "name": "stdout",
     "output_type": "stream",
     "text": [
      "To get vector: tensor([7, 8])\n",
      "To get vector shape: torch.Size([2])\n",
      "To get vector dimension: 1\n"
     ]
    }
   ],
   "source": [
    "# Vector\n",
    "vector = torch.tensor([7, 8]) # [magnitud, direction] -> vector!\n",
    "print(f\"To get vector: {vector}\")\n",
    "print(f\"To get vector shape: {vector.shape}\")\n",
    "print(f\"To get vector dimension: {vector.ndim}\")"
   ]
  },
  {
   "cell_type": "code",
   "execution_count": 5,
   "metadata": {
    "colab": {
     "base_uri": "https://localhost:8080/"
    },
    "executionInfo": {
     "elapsed": 12,
     "status": "ok",
     "timestamp": 1730227503138,
     "user": {
      "displayName": "Paola Rocha",
      "userId": "05398982671622189547"
     },
     "user_tz": 360
    },
    "id": "DQwOYoHjB5tZ",
    "outputId": "617e2de0-3288-47cc-dfaf-e25eb2feca80"
   },
   "outputs": [
    {
     "name": "stdout",
     "output_type": "stream",
     "text": [
      "To get MATRIX: tensor([[1, 5],\n",
      "        [9, 3],\n",
      "        [7, 8]])\n",
      "To get MATRIX dimension: 2\n",
      "To get MATRIX shape: torch.Size([3, 2])\n",
      "To get MATRIX first element: tensor([1, 5])\n",
      "To get MATRIX second element: tensor([9, 3])\n"
     ]
    }
   ],
   "source": [
    "# MATRIX\n",
    "MATRIX = torch.tensor([[1, 5], [9, 3], [7, 8]])\n",
    "print(f\"To get MATRIX: {MATRIX}\")\n",
    "print(f\"To get MATRIX dimension: {MATRIX.ndim}\")\n",
    "print(f\"To get MATRIX shape: {MATRIX.shape}\")  # Rows, Columns\n",
    "print(f\"To get MATRIX first element: {MATRIX[0]}\")\n",
    "print(f\"To get MATRIX second element: {MATRIX[1]}\")"
   ]
  },
  {
   "cell_type": "code",
   "execution_count": 6,
   "metadata": {
    "colab": {
     "base_uri": "https://localhost:8080/"
    },
    "executionInfo": {
     "elapsed": 9,
     "status": "ok",
     "timestamp": 1730227503138,
     "user": {
      "displayName": "Paola Rocha",
      "userId": "05398982671622189547"
     },
     "user_tz": 360
    },
    "id": "vF_ddnY9CdGf",
    "outputId": "812b15b1-5b4b-474e-e45c-c5d045beb3e5"
   },
   "outputs": [
    {
     "name": "stdout",
     "output_type": "stream",
     "text": [
      "To get TENSOR: tensor([[[1, 5, 8],\n",
      "         [9, 3, 9],\n",
      "         [7, 8, 2]],\n",
      "\n",
      "        [[5, 7, 5],\n",
      "         [8, 3, 2],\n",
      "         [3, 8, 5]]])\n",
      "To get TENSOR dimension: 3\n",
      "To get TENSOR shape: torch.Size([2, 3, 3]): we have 2 matrixs of 3 x 3\n",
      "To get TENSOR first matrix: tensor([[1, 5, 8],\n",
      "        [9, 3, 9],\n",
      "        [7, 8, 2]])\n",
      "To get TENSOR first element of the first matrix: tensor([1, 5, 8])\n"
     ]
    }
   ],
   "source": [
    "# TENSOR\n",
    "TENSOR = torch.tensor([[[1, 5, 8], [9, 3, 9], [7, 8, 2]], [[5, 7, 5], [8, 3, 2], [3, 8, 5]]])\n",
    "print(f\"To get TENSOR: {TENSOR}\")\n",
    "print(f\"To get TENSOR dimension: {TENSOR.ndim}\")\n",
    "print(f\"To get TENSOR shape: {TENSOR.shape}: we have 2 matrixs of 3 x 3\")\n",
    "print(f\"To get TENSOR first matrix: {TENSOR[0]}\")\n",
    "print(f\"To get TENSOR first element of the first matrix: {TENSOR[0][0]}\")"
   ]
  },
  {
   "cell_type": "markdown",
   "metadata": {
    "id": "SYxllx3oHCXA"
   },
   "source": [
    "### Random tensors\n",
    "\n",
    "Why random tensors?\n",
    "\n",
    "Random tensors are important because the way many neural netowrks learn is that they start with tensors full of random numbers and adjust those random numbers to better represent the data.\n",
    "\n",
    "`Start with random number -> look at data -> update random numbers -> look at data -> update random numbers...`\n",
    "\n",
    "[torch.rand documentation](https://pytorch.org/docs/main/generated/torch.rand.html)"
   ]
  },
  {
   "cell_type": "code",
   "execution_count": 7,
   "metadata": {
    "colab": {
     "base_uri": "https://localhost:8080/"
    },
    "executionInfo": {
     "elapsed": 8,
     "status": "ok",
     "timestamp": 1730227503139,
     "user": {
      "displayName": "Paola Rocha",
      "userId": "05398982671622189547"
     },
     "user_tz": 360
    },
    "id": "qr9ooBjEDywi",
    "outputId": "544981d4-7bb0-498b-d01c-c735c2f9f9a7"
   },
   "outputs": [
    {
     "data": {
      "text/plain": [
       "tensor([[[0.6799, 0.1617],\n",
       "         [0.5368, 0.7240],\n",
       "         [0.0240, 0.9245],\n",
       "         [0.1677, 0.4669]],\n",
       "\n",
       "        [[0.4332, 0.1771],\n",
       "         [0.6948, 0.1177],\n",
       "         [0.5541, 0.2001],\n",
       "         [0.0620, 0.1262]],\n",
       "\n",
       "        [[0.2815, 0.7957],\n",
       "         [0.5852, 0.6906],\n",
       "         [0.0250, 0.5789],\n",
       "         [0.3622, 0.8421]]])"
      ]
     },
     "execution_count": 7,
     "metadata": {},
     "output_type": "execute_result"
    }
   ],
   "source": [
    "# Create a random tensor of size (3, 4, 2)\n",
    "random_tensor = torch.rand(3, 4, 2)\n",
    "random_tensor"
   ]
  },
  {
   "cell_type": "code",
   "execution_count": 8,
   "metadata": {
    "colab": {
     "base_uri": "https://localhost:8080/"
    },
    "executionInfo": {
     "elapsed": 6,
     "status": "ok",
     "timestamp": 1730227503139,
     "user": {
      "displayName": "Paola Rocha",
      "userId": "05398982671622189547"
     },
     "user_tz": 360
    },
    "id": "vTiNUJilIIw6",
    "outputId": "11f78d4d-789a-4fea-dd8e-11036f544b7a"
   },
   "outputs": [
    {
     "name": "stdout",
     "output_type": "stream",
     "text": [
      "Dimension: 3\n",
      "Shape: torch.Size([3, 224, 224])\n"
     ]
    }
   ],
   "source": [
    "# Create a random tensor with similar shape to an image tensor\n",
    "random_image_size_tensor = torch.rand(size=(3, 224, 224))\n",
    "print(f\"Dimension: {random_image_size_tensor.ndim}\")\n",
    "print(f\"Shape: {random_image_size_tensor.shape}\")"
   ]
  },
  {
   "cell_type": "markdown",
   "metadata": {
    "id": "3MGSXS8KKe9w"
   },
   "source": [
    "\n",
    "## Zeros and Ones"
   ]
  },
  {
   "cell_type": "code",
   "execution_count": 9,
   "metadata": {
    "colab": {
     "base_uri": "https://localhost:8080/"
    },
    "executionInfo": {
     "elapsed": 48,
     "status": "ok",
     "timestamp": 1730227503971,
     "user": {
      "displayName": "Paola Rocha",
      "userId": "05398982671622189547"
     },
     "user_tz": 360
    },
    "id": "7vpfQGnMJyCc",
    "outputId": "132ee3c5-1f75-424b-fbdd-ff95dc71f3ae"
   },
   "outputs": [
    {
     "data": {
      "text/plain": [
       "tensor([[0., 0., 0.],\n",
       "        [0., 0., 0.]])"
      ]
     },
     "execution_count": 9,
     "metadata": {},
     "output_type": "execute_result"
    }
   ],
   "source": [
    "## Create a tensor of all zeros\n",
    "zeros = torch.zeros(size=(2,3))\n",
    "zeros"
   ]
  },
  {
   "cell_type": "code",
   "execution_count": 10,
   "metadata": {
    "colab": {
     "base_uri": "https://localhost:8080/"
    },
    "executionInfo": {
     "elapsed": 47,
     "status": "ok",
     "timestamp": 1730227503971,
     "user": {
      "displayName": "Paola Rocha",
      "userId": "05398982671622189547"
     },
     "user_tz": 360
    },
    "id": "hh9kSegmKqKp",
    "outputId": "2e50d68d-27ab-4585-ce36-b2f9ec5863c8"
   },
   "outputs": [
    {
     "data": {
      "text/plain": [
       "tensor([[1., 1., 1.],\n",
       "        [1., 1., 1.]])"
      ]
     },
     "execution_count": 10,
     "metadata": {},
     "output_type": "execute_result"
    }
   ],
   "source": [
    "## Create a tensor of all ones\n",
    "ones = torch.ones(size=(2,3))\n",
    "ones"
   ]
  },
  {
   "cell_type": "code",
   "execution_count": 11,
   "metadata": {
    "colab": {
     "base_uri": "https://localhost:8080/"
    },
    "executionInfo": {
     "elapsed": 45,
     "status": "ok",
     "timestamp": 1730227503971,
     "user": {
      "displayName": "Paola Rocha",
      "userId": "05398982671622189547"
     },
     "user_tz": 360
    },
    "id": "UXbt-HpwKzcD",
    "outputId": "639e09ee-af78-4f8d-f3fd-03da4dea26db"
   },
   "outputs": [
    {
     "data": {
      "text/plain": [
       "torch.float32"
      ]
     },
     "execution_count": 11,
     "metadata": {},
     "output_type": "execute_result"
    }
   ],
   "source": [
    "ones.dtype"
   ]
  },
  {
   "cell_type": "markdown",
   "metadata": {
    "id": "URewMdJaLfKs"
   },
   "source": [
    "## Create a range of tensors and tensors-like\n",
    "\n",
    "[torch.range documentation](https://pytorch.org/docs/stable/generated/torch.range.html) DEPRECATED."
   ]
  },
  {
   "cell_type": "code",
   "execution_count": 12,
   "metadata": {
    "colab": {
     "base_uri": "https://localhost:8080/"
    },
    "executionInfo": {
     "elapsed": 44,
     "status": "ok",
     "timestamp": 1730227503971,
     "user": {
      "displayName": "Paola Rocha",
      "userId": "05398982671622189547"
     },
     "user_tz": 360
    },
    "id": "8TN4nwcSK1vI",
    "outputId": "9d01d46d-582e-426c-8773-977645c0b009"
   },
   "outputs": [
    {
     "data": {
      "text/plain": [
       "tensor([1, 2, 3, 4, 5, 6, 7, 8, 9])"
      ]
     },
     "execution_count": 12,
     "metadata": {},
     "output_type": "execute_result"
    }
   ],
   "source": [
    "### Use torch.range\n",
    "one_to_ten = torch.arange(1, 10)\n",
    "one_to_ten"
   ]
  },
  {
   "cell_type": "code",
   "execution_count": 13,
   "metadata": {
    "colab": {
     "base_uri": "https://localhost:8080/"
    },
    "executionInfo": {
     "elapsed": 44,
     "status": "ok",
     "timestamp": 1730227503972,
     "user": {
      "displayName": "Paola Rocha",
      "userId": "05398982671622189547"
     },
     "user_tz": 360
    },
    "id": "goR-KfXoL77p",
    "outputId": "9a50d7ce-1f44-431c-ed62-291cf7aad32c"
   },
   "outputs": [
    {
     "data": {
      "text/plain": [
       "tensor([0, 0, 0, 0, 0, 0, 0, 0, 0])"
      ]
     },
     "execution_count": 13,
     "metadata": {},
     "output_type": "execute_result"
    }
   ],
   "source": [
    "## Creating tensors-like\n",
    "ten_zeros = torch.zeros_like(input=one_to_ten)\n",
    "ten_zeros"
   ]
  },
  {
   "cell_type": "markdown",
   "metadata": {
    "id": "Ngwy-YNCjqt8"
   },
   "source": [
    "## Tensor datatypes\n",
    "\n",
    "[Tensor datatypes](https://pytorch.org/docs/stable/tensors.html#data-types)\n",
    "\n",
    "**Note:** Tensor datatypes is one of the 3 big errors you'll run into with PyTorch and deep learning\n",
    "1. Tensors not right datatype\n",
    "2. Tensors not right shape\n",
    "3. Tensors not on the right device"
   ]
  },
  {
   "cell_type": "code",
   "execution_count": 14,
   "metadata": {},
   "outputs": [
    {
     "data": {
      "text/plain": [
       "True"
      ]
     },
     "execution_count": 14,
     "metadata": {},
     "output_type": "execute_result"
    }
   ],
   "source": [
    "torch.cuda.is_available()"
   ]
  },
  {
   "cell_type": "code",
   "execution_count": 15,
   "metadata": {
    "colab": {
     "base_uri": "https://localhost:8080/"
    },
    "executionInfo": {
     "elapsed": 43,
     "status": "ok",
     "timestamp": 1730227503972,
     "user": {
      "displayName": "Paola Rocha",
      "userId": "05398982671622189547"
     },
     "user_tz": 360
    },
    "id": "O-sNNfnnMrIN",
    "outputId": "3fc97c5a-3892-42c9-e7d7-a84fd27a6dcd"
   },
   "outputs": [
    {
     "data": {
      "text/plain": [
       "tensor([3., 6., 9.])"
      ]
     },
     "execution_count": 15,
     "metadata": {},
     "output_type": "execute_result"
    }
   ],
   "source": [
    "# Float 32 Tensor\n",
    "float_32_tensor = torch.tensor([3.0, 6.0, 9.0],\n",
    "                               dtype=None, # default is float32, you can change it by passing torch.float16, for example\n",
    "                               device=None, # could be \"cuda\", \"cpu\"\n",
    "                               requires_grad=False) # if you want pytorch to track the gradients with these tensors operations\n",
    "float_32_tensor"
   ]
  },
  {
   "cell_type": "code",
   "execution_count": 16,
   "metadata": {
    "colab": {
     "base_uri": "https://localhost:8080/"
    },
    "executionInfo": {
     "elapsed": 42,
     "status": "ok",
     "timestamp": 1730227503972,
     "user": {
      "displayName": "Paola Rocha",
      "userId": "05398982671622189547"
     },
     "user_tz": 360
    },
    "id": "ZzcNDK6bkI7h",
    "outputId": "1d9cdea8-d693-4b0f-b336-8163c386815c"
   },
   "outputs": [
    {
     "data": {
      "text/plain": [
       "torch.float32"
      ]
     },
     "execution_count": 16,
     "metadata": {},
     "output_type": "execute_result"
    }
   ],
   "source": [
    "float_32_tensor.dtype"
   ]
  },
  {
   "cell_type": "code",
   "execution_count": 17,
   "metadata": {
    "colab": {
     "base_uri": "https://localhost:8080/"
    },
    "executionInfo": {
     "elapsed": 41,
     "status": "ok",
     "timestamp": 1730227503972,
     "user": {
      "displayName": "Paola Rocha",
      "userId": "05398982671622189547"
     },
     "user_tz": 360
    },
    "id": "lpqvQT1lkTHA",
    "outputId": "9e24bbc9-b15d-45ae-a886-ecdf7186cc56"
   },
   "outputs": [
    {
     "data": {
      "text/plain": [
       "tensor([3., 6., 9.], dtype=torch.float16)"
      ]
     },
     "execution_count": 17,
     "metadata": {},
     "output_type": "execute_result"
    }
   ],
   "source": [
    "float_16_tensor = float_32_tensor.type(torch.float16)\n",
    "float_16_tensor"
   ]
  },
  {
   "cell_type": "code",
   "execution_count": 18,
   "metadata": {
    "colab": {
     "base_uri": "https://localhost:8080/"
    },
    "executionInfo": {
     "elapsed": 39,
     "status": "ok",
     "timestamp": 1730227503972,
     "user": {
      "displayName": "Paola Rocha",
      "userId": "05398982671622189547"
     },
     "user_tz": 360
    },
    "id": "Z2w1tI_anOvD",
    "outputId": "2159d488-66e4-4764-9eea-bf53119798c1"
   },
   "outputs": [
    {
     "data": {
      "text/plain": [
       "tensor([ 9., 36., 81.])"
      ]
     },
     "execution_count": 18,
     "metadata": {},
     "output_type": "execute_result"
    }
   ],
   "source": [
    "float_16_tensor * float_32_tensor"
   ]
  },
  {
   "cell_type": "code",
   "execution_count": 19,
   "metadata": {
    "colab": {
     "base_uri": "https://localhost:8080/"
    },
    "executionInfo": {
     "elapsed": 37,
     "status": "ok",
     "timestamp": 1730227503972,
     "user": {
      "displayName": "Paola Rocha",
      "userId": "05398982671622189547"
     },
     "user_tz": 360
    },
    "id": "q7bDac5rnrcL",
    "outputId": "71fd9e7a-3fa1-4c0c-87d9-e148cd9a7dce"
   },
   "outputs": [
    {
     "data": {
      "text/plain": [
       "tensor([3, 6, 9], dtype=torch.int32)"
      ]
     },
     "execution_count": 19,
     "metadata": {},
     "output_type": "execute_result"
    }
   ],
   "source": [
    "int_32_tensor = torch.tensor([3, 6, 9], dtype=torch.int32)\n",
    "int_32_tensor"
   ]
  },
  {
   "cell_type": "code",
   "execution_count": 20,
   "metadata": {
    "colab": {
     "base_uri": "https://localhost:8080/"
    },
    "executionInfo": {
     "elapsed": 37,
     "status": "ok",
     "timestamp": 1730227503972,
     "user": {
      "displayName": "Paola Rocha",
      "userId": "05398982671622189547"
     },
     "user_tz": 360
    },
    "id": "FDC7K_uxoEfD",
    "outputId": "2a6ae00e-51b2-49f2-a9cf-3c5d8949441c"
   },
   "outputs": [
    {
     "data": {
      "text/plain": [
       "tensor([ 9., 36., 81.])"
      ]
     },
     "execution_count": 20,
     "metadata": {},
     "output_type": "execute_result"
    }
   ],
   "source": [
    "float_32_tensor * int_32_tensor"
   ]
  },
  {
   "cell_type": "markdown",
   "metadata": {
    "id": "W77Ud8Aqoh7x"
   },
   "source": [
    "## Getting information about tensors\n",
    "\n",
    "1. Tensors not right datatype -> `tensor.dtype`\n",
    "2. Tensors not right shape -> `tensor.shape`\n",
    "3. Tensors not on the right device -> `tensor.device`"
   ]
  },
  {
   "cell_type": "code",
   "execution_count": 21,
   "metadata": {
    "colab": {
     "base_uri": "https://localhost:8080/"
    },
    "executionInfo": {
     "elapsed": 36,
     "status": "ok",
     "timestamp": 1730227503972,
     "user": {
      "displayName": "Paola Rocha",
      "userId": "05398982671622189547"
     },
     "user_tz": 360
    },
    "id": "FYv5MY9KoLOz",
    "outputId": "edeae8b7-c621-40d0-924f-e901de278d09"
   },
   "outputs": [
    {
     "data": {
      "text/plain": [
       "tensor([[0.1538, 0.1763, 0.0573, 0.7467],\n",
       "        [0.1524, 0.7700, 0.9819, 0.3420],\n",
       "        [0.5563, 0.9743, 0.6368, 0.7529]])"
      ]
     },
     "execution_count": 21,
     "metadata": {},
     "output_type": "execute_result"
    }
   ],
   "source": [
    "# Create a tensor\n",
    "some_tensor = torch.rand(3, 4)\n",
    "some_tensor"
   ]
  },
  {
   "cell_type": "code",
   "execution_count": 22,
   "metadata": {
    "colab": {
     "base_uri": "https://localhost:8080/"
    },
    "executionInfo": {
     "elapsed": 35,
     "status": "ok",
     "timestamp": 1730227503972,
     "user": {
      "displayName": "Paola Rocha",
      "userId": "05398982671622189547"
     },
     "user_tz": 360
    },
    "id": "0rDo0KYUpIMX",
    "outputId": "6c745be3-b88a-49ef-876d-409a7550d47c"
   },
   "outputs": [
    {
     "name": "stdout",
     "output_type": "stream",
     "text": [
      "tensor([[0.1538, 0.1763, 0.0573, 0.7467],\n",
      "        [0.1524, 0.7700, 0.9819, 0.3420],\n",
      "        [0.5563, 0.9743, 0.6368, 0.7529]])\n",
      "Data type of tensor: torch.float32\n",
      "Data shape of tensor: torch.Size([3, 4])\n",
      "Data device of tensor: cpu\n"
     ]
    }
   ],
   "source": [
    "# Find out some details about tensor\n",
    "print(f\"{some_tensor}\")\n",
    "print(f\"Data type of tensor: {some_tensor.dtype}\")\n",
    "print(f\"Data shape of tensor: {some_tensor.shape}\")\n",
    "print(f\"Data device of tensor: {some_tensor.device}\")"
   ]
  },
  {
   "cell_type": "markdown",
   "metadata": {
    "id": "OcBkkr_Vsa94"
   },
   "source": [
    "## Manipulating tensors\n",
    "\n",
    "Tensors operations include:\n",
    "* Addition\n",
    "* Substraction\n",
    "* Multiplication (element wise)\n",
    "* Division\n",
    "* Matrix multiplication"
   ]
  },
  {
   "cell_type": "code",
   "execution_count": 23,
   "metadata": {
    "colab": {
     "base_uri": "https://localhost:8080/"
    },
    "executionInfo": {
     "elapsed": 34,
     "status": "ok",
     "timestamp": 1730227503972,
     "user": {
      "displayName": "Paola Rocha",
      "userId": "05398982671622189547"
     },
     "user_tz": 360
    },
    "id": "C_cCsXTupghK",
    "outputId": "0e1e3326-157c-430e-8a00-468ce5551f9e"
   },
   "outputs": [
    {
     "data": {
      "text/plain": [
       "tensor([11, 12, 13])"
      ]
     },
     "execution_count": 23,
     "metadata": {},
     "output_type": "execute_result"
    }
   ],
   "source": [
    "# Create a tensor\n",
    "tensor = torch.tensor([1, 2, 3])\n",
    "tensor + 10"
   ]
  },
  {
   "cell_type": "code",
   "execution_count": 24,
   "metadata": {
    "colab": {
     "base_uri": "https://localhost:8080/"
    },
    "executionInfo": {
     "elapsed": 34,
     "status": "ok",
     "timestamp": 1730227503973,
     "user": {
      "displayName": "Paola Rocha",
      "userId": "05398982671622189547"
     },
     "user_tz": 360
    },
    "id": "lJ-M5OxKs8-w",
    "outputId": "2b753a57-9cc5-437b-f692-a7ea6b6d12a8"
   },
   "outputs": [
    {
     "data": {
      "text/plain": [
       "tensor([10, 20, 30])"
      ]
     },
     "execution_count": 24,
     "metadata": {},
     "output_type": "execute_result"
    }
   ],
   "source": [
    "# Multiply tensor by 10\n",
    "tensor * 10"
   ]
  },
  {
   "cell_type": "code",
   "execution_count": 25,
   "metadata": {
    "colab": {
     "base_uri": "https://localhost:8080/"
    },
    "executionInfo": {
     "elapsed": 33,
     "status": "ok",
     "timestamp": 1730227503973,
     "user": {
      "displayName": "Paola Rocha",
      "userId": "05398982671622189547"
     },
     "user_tz": 360
    },
    "id": "nflxIog4tEar",
    "outputId": "0720c806-ddde-49ce-dac3-101771ec8966"
   },
   "outputs": [
    {
     "data": {
      "text/plain": [
       "tensor([-9, -8, -7])"
      ]
     },
     "execution_count": 25,
     "metadata": {},
     "output_type": "execute_result"
    }
   ],
   "source": [
    "# Substract\n",
    "tensor - 10"
   ]
  },
  {
   "cell_type": "code",
   "execution_count": 26,
   "metadata": {
    "colab": {
     "base_uri": "https://localhost:8080/"
    },
    "executionInfo": {
     "elapsed": 32,
     "status": "ok",
     "timestamp": 1730227503973,
     "user": {
      "displayName": "Paola Rocha",
      "userId": "05398982671622189547"
     },
     "user_tz": 360
    },
    "id": "3bYAPbM5tOSF",
    "outputId": "abd5019b-8c91-4109-fe89-12e56453d5ed"
   },
   "outputs": [
    {
     "data": {
      "text/plain": [
       "tensor([10, 20, 30])"
      ]
     },
     "execution_count": 26,
     "metadata": {},
     "output_type": "execute_result"
    }
   ],
   "source": [
    "# Try pytorch built-in functions\n",
    "torch.mul(tensor, 10)"
   ]
  },
  {
   "cell_type": "code",
   "execution_count": 27,
   "metadata": {
    "colab": {
     "base_uri": "https://localhost:8080/"
    },
    "executionInfo": {
     "elapsed": 31,
     "status": "ok",
     "timestamp": 1730227503973,
     "user": {
      "displayName": "Paola Rocha",
      "userId": "05398982671622189547"
     },
     "user_tz": 360
    },
    "id": "_-L3kmjitczf",
    "outputId": "af54041c-7262-4b83-d9a1-7836fbaa35f9"
   },
   "outputs": [
    {
     "data": {
      "text/plain": [
       "tensor([11, 12, 13])"
      ]
     },
     "execution_count": 27,
     "metadata": {},
     "output_type": "execute_result"
    }
   ],
   "source": [
    "torch.add(tensor, 10)"
   ]
  },
  {
   "cell_type": "markdown",
   "metadata": {
    "id": "MQcsr8jr1pkx"
   },
   "source": [
    "## Matrix multiplication\n",
    "\n",
    "Two main ways of performing multiplication in neuronal networks and deep learning\n",
    "* Element-wise multiplitication\n",
    "* Matrix multiplication (dot product: always returns a scalar)\n",
    "\n",
    "There are two main rules that performing matrix needs to satisfy:\n",
    "* The **inner dimension** should match\n",
    "* The resulting matrix has the shape of the **outer dimension**"
   ]
  },
  {
   "cell_type": "code",
   "execution_count": 28,
   "metadata": {
    "colab": {
     "base_uri": "https://localhost:8080/"
    },
    "executionInfo": {
     "elapsed": 30,
     "status": "ok",
     "timestamp": 1730227503973,
     "user": {
      "displayName": "Paola Rocha",
      "userId": "05398982671622189547"
     },
     "user_tz": 360
    },
    "id": "OtCXwvCctmBZ",
    "outputId": "5e3beb91-1c28-4ae9-d920-e91e7559c3a6"
   },
   "outputs": [
    {
     "name": "stdout",
     "output_type": "stream",
     "text": [
      "tensor([1, 2, 3]) * tensor([1, 2, 3])\n",
      "equals:  tensor([1, 4, 9])\n"
     ]
    }
   ],
   "source": [
    "## Element-wise multiplication\n",
    "print(f\"{tensor} * {tensor}\")\n",
    "print(\"equals: \", tensor * tensor)"
   ]
  },
  {
   "cell_type": "code",
   "execution_count": 29,
   "metadata": {
    "colab": {
     "base_uri": "https://localhost:8080/"
    },
    "executionInfo": {
     "elapsed": 28,
     "status": "ok",
     "timestamp": 1730227503973,
     "user": {
      "displayName": "Paola Rocha",
      "userId": "05398982671622189547"
     },
     "user_tz": 360
    },
    "id": "QYz10eco2mXO",
    "outputId": "b4f0a760-8cf6-42bf-a505-3f09a82ed069"
   },
   "outputs": [
    {
     "data": {
      "text/plain": [
       "tensor(14)"
      ]
     },
     "execution_count": 29,
     "metadata": {},
     "output_type": "execute_result"
    }
   ],
   "source": [
    "# Matrix multiplication\n",
    "torch.matmul(tensor, tensor)"
   ]
  },
  {
   "cell_type": "code",
   "execution_count": 30,
   "metadata": {
    "colab": {
     "base_uri": "https://localhost:8080/"
    },
    "executionInfo": {
     "elapsed": 27,
     "status": "ok",
     "timestamp": 1730227503973,
     "user": {
      "displayName": "Paola Rocha",
      "userId": "05398982671622189547"
     },
     "user_tz": 360
    },
    "id": "FqQnYc413GFt",
    "outputId": "ada4bdb3-c662-462f-b6be-77d9772f3e0f"
   },
   "outputs": [
    {
     "data": {
      "text/plain": [
       "tensor(14)"
      ]
     },
     "execution_count": 30,
     "metadata": {},
     "output_type": "execute_result"
    }
   ],
   "source": [
    "tensor @ tensor # Its the same"
   ]
  },
  {
   "cell_type": "markdown",
   "metadata": {
    "id": "-04I4N0WAcvt"
   },
   "source": [
    "## Finding the min, max, sum, etc (tensor aggregation)"
   ]
  },
  {
   "cell_type": "code",
   "execution_count": 31,
   "metadata": {
    "colab": {
     "base_uri": "https://localhost:8080/"
    },
    "executionInfo": {
     "elapsed": 26,
     "status": "ok",
     "timestamp": 1730227503973,
     "user": {
      "displayName": "Paola Rocha",
      "userId": "05398982671622189547"
     },
     "user_tz": 360
    },
    "id": "Mtz8cpp86z8c",
    "outputId": "a791c541-5c34-4625-c7a4-165c0618e96f"
   },
   "outputs": [
    {
     "data": {
      "text/plain": [
       "(tensor([ 0, 10, 20, 30, 40, 50, 60, 70, 80, 90]), torch.int64)"
      ]
     },
     "execution_count": 31,
     "metadata": {},
     "output_type": "execute_result"
    }
   ],
   "source": [
    "# Create tensor\n",
    "x = torch.arange(0, 100, 10)\n",
    "x, x.dtype"
   ]
  },
  {
   "cell_type": "code",
   "execution_count": 32,
   "metadata": {
    "colab": {
     "base_uri": "https://localhost:8080/"
    },
    "executionInfo": {
     "elapsed": 25,
     "status": "ok",
     "timestamp": 1730227503973,
     "user": {
      "displayName": "Paola Rocha",
      "userId": "05398982671622189547"
     },
     "user_tz": 360
    },
    "id": "X88jhCoEAz-p",
    "outputId": "de9a6605-f5e9-4330-d28e-e5bf24757962"
   },
   "outputs": [
    {
     "data": {
      "text/plain": [
       "tensor(0)"
      ]
     },
     "execution_count": 32,
     "metadata": {},
     "output_type": "execute_result"
    }
   ],
   "source": [
    "torch.min(x)"
   ]
  },
  {
   "cell_type": "code",
   "execution_count": 33,
   "metadata": {
    "colab": {
     "base_uri": "https://localhost:8080/"
    },
    "executionInfo": {
     "elapsed": 24,
     "status": "ok",
     "timestamp": 1730227503973,
     "user": {
      "displayName": "Paola Rocha",
      "userId": "05398982671622189547"
     },
     "user_tz": 360
    },
    "id": "3CazzN76A6Gp",
    "outputId": "2b999192-6ca4-4518-aa8a-d1236beed2a2"
   },
   "outputs": [
    {
     "data": {
      "text/plain": [
       "tensor(0)"
      ]
     },
     "execution_count": 33,
     "metadata": {},
     "output_type": "execute_result"
    }
   ],
   "source": [
    "x.min()"
   ]
  },
  {
   "cell_type": "code",
   "execution_count": 34,
   "metadata": {
    "colab": {
     "base_uri": "https://localhost:8080/"
    },
    "executionInfo": {
     "elapsed": 23,
     "status": "ok",
     "timestamp": 1730227503973,
     "user": {
      "displayName": "Paola Rocha",
      "userId": "05398982671622189547"
     },
     "user_tz": 360
    },
    "id": "5vbnK_KHA-EX",
    "outputId": "a884e91e-72ed-4b8a-f057-d9303b5e0e84"
   },
   "outputs": [
    {
     "data": {
      "text/plain": [
       "(tensor(90), tensor(90))"
      ]
     },
     "execution_count": 34,
     "metadata": {},
     "output_type": "execute_result"
    }
   ],
   "source": [
    "# Find de max\n",
    "torch.max(x), x.max()"
   ]
  },
  {
   "cell_type": "code",
   "execution_count": 35,
   "metadata": {
    "colab": {
     "base_uri": "https://localhost:8080/"
    },
    "executionInfo": {
     "elapsed": 22,
     "status": "ok",
     "timestamp": 1730227503973,
     "user": {
      "displayName": "Paola Rocha",
      "userId": "05398982671622189547"
     },
     "user_tz": 360
    },
    "id": "9A7Qv5lNCZrP",
    "outputId": "afaf944e-d8c2-42cf-9021-6e2e0f005382"
   },
   "outputs": [
    {
     "data": {
      "text/plain": [
       "(tensor(45.), tensor(45.))"
      ]
     },
     "execution_count": 35,
     "metadata": {},
     "output_type": "execute_result"
    }
   ],
   "source": [
    "# Find the mean\n",
    "# NOTE: the mean functions required a tensor of float32 to work\n",
    "torch.mean(x.type(torch.float32)), x.type(torch.float32).mean()"
   ]
  },
  {
   "cell_type": "code",
   "execution_count": 36,
   "metadata": {
    "colab": {
     "base_uri": "https://localhost:8080/"
    },
    "executionInfo": {
     "elapsed": 21,
     "status": "ok",
     "timestamp": 1730227503973,
     "user": {
      "displayName": "Paola Rocha",
      "userId": "05398982671622189547"
     },
     "user_tz": 360
    },
    "id": "72BRsKhcCf48",
    "outputId": "ce2722e8-f806-4514-c121-604840fa4b97"
   },
   "outputs": [
    {
     "data": {
      "text/plain": [
       "(tensor(450), tensor(450))"
      ]
     },
     "execution_count": 36,
     "metadata": {},
     "output_type": "execute_result"
    }
   ],
   "source": [
    "# Find the sum\n",
    "torch.sum(x), x.sum()"
   ]
  },
  {
   "cell_type": "code",
   "execution_count": 37,
   "metadata": {
    "colab": {
     "base_uri": "https://localhost:8080/"
    },
    "executionInfo": {
     "elapsed": 20,
     "status": "ok",
     "timestamp": 1730227503973,
     "user": {
      "displayName": "Paola Rocha",
      "userId": "05398982671622189547"
     },
     "user_tz": 360
    },
    "id": "anBVJnh8DRaq",
    "outputId": "bbcac02a-9f66-40c2-d464-a8d18acfccf4"
   },
   "outputs": [
    {
     "data": {
      "text/plain": [
       "tensor(0)"
      ]
     },
     "execution_count": 37,
     "metadata": {},
     "output_type": "execute_result"
    }
   ],
   "source": [
    "# Finding the positional min and max\n",
    "x.argmin()  # Index of the minimum value"
   ]
  },
  {
   "cell_type": "code",
   "execution_count": 38,
   "metadata": {
    "colab": {
     "base_uri": "https://localhost:8080/"
    },
    "executionInfo": {
     "elapsed": 21,
     "status": "ok",
     "timestamp": 1730227503974,
     "user": {
      "displayName": "Paola Rocha",
      "userId": "05398982671622189547"
     },
     "user_tz": 360
    },
    "id": "ZSfPjuB4EwuF",
    "outputId": "5db073a1-9e88-4f74-addc-2f228c1dd86c"
   },
   "outputs": [
    {
     "data": {
      "text/plain": [
       "tensor(9)"
      ]
     },
     "execution_count": 38,
     "metadata": {},
     "output_type": "execute_result"
    }
   ],
   "source": [
    "x.argmax()  # Index of the maximum value"
   ]
  },
  {
   "cell_type": "markdown",
   "metadata": {
    "id": "bbmnWWCZGUf-"
   },
   "source": [
    "## Reshaping, stacking, squeezing and unsqueezing tensors\n",
    "\n",
    "* Reshaping - reshapes an input tensor to a defined shape\n",
    "* View - return a view of an input of certain shape but keep the same memory as the original tensor\n",
    "* Stacking - combine multiple tensors on top of each other ([vstack](https://pytorch.org/docs/stable/generated/torch.vstack.html)) or side by side ([hstack](https://pytorch.org/docs/stable/generated/torch.hstack.html))\n",
    "* Squeeze - remove all `1` dimensiones from a tensor\n",
    "* Unsqueeze - add a `1` dimension to a target tensor\n",
    "* Permute - Return a view of the input with dimensions permuted (swapped) in a certain way"
   ]
  },
  {
   "cell_type": "code",
   "execution_count": 39,
   "metadata": {
    "colab": {
     "base_uri": "https://localhost:8080/"
    },
    "executionInfo": {
     "elapsed": 19,
     "status": "ok",
     "timestamp": 1730227503974,
     "user": {
      "displayName": "Paola Rocha",
      "userId": "05398982671622189547"
     },
     "user_tz": 360
    },
    "id": "2CkrQ7IcE3SY",
    "outputId": "b334a5d5-3b52-403d-d4b2-d5b7e7bee2cd"
   },
   "outputs": [
    {
     "data": {
      "text/plain": [
       "(tensor([1., 2., 3., 4., 5., 6., 7., 8., 9.]), torch.Size([9]))"
      ]
     },
     "execution_count": 39,
     "metadata": {},
     "output_type": "execute_result"
    }
   ],
   "source": [
    "# Create a tensor\n",
    "x = torch.arange(1., 10.)\n",
    "x, x.shape"
   ]
  },
  {
   "cell_type": "code",
   "execution_count": 40,
   "metadata": {
    "colab": {
     "base_uri": "https://localhost:8080/"
    },
    "executionInfo": {
     "elapsed": 19,
     "status": "ok",
     "timestamp": 1730227503974,
     "user": {
      "displayName": "Paola Rocha",
      "userId": "05398982671622189547"
     },
     "user_tz": 360
    },
    "id": "7hBGTDO4H6W8",
    "outputId": "e5cada2f-73a6-4719-f850-7dc689793a80"
   },
   "outputs": [
    {
     "data": {
      "text/plain": [
       "(tensor([[1., 2., 3., 4., 5., 6., 7., 8., 9.]]), torch.Size([1, 9]))"
      ]
     },
     "execution_count": 40,
     "metadata": {},
     "output_type": "execute_result"
    }
   ],
   "source": [
    "# Add an extra dimension\n",
    "x_reshaped = x.reshape(1, 9)\n",
    "x_reshaped, x_reshaped.shape"
   ]
  },
  {
   "cell_type": "code",
   "execution_count": 41,
   "metadata": {
    "colab": {
     "base_uri": "https://localhost:8080/"
    },
    "executionInfo": {
     "elapsed": 17,
     "status": "ok",
     "timestamp": 1730227503974,
     "user": {
      "displayName": "Paola Rocha",
      "userId": "05398982671622189547"
     },
     "user_tz": 360
    },
    "id": "qcnQIWLbH6T_",
    "outputId": "d0bba47a-b95a-449d-a6f5-cc5e82c781f9"
   },
   "outputs": [
    {
     "data": {
      "text/plain": [
       "(tensor([[1., 2., 3., 4., 5., 6., 7., 8., 9.]]), torch.Size([1, 9]))"
      ]
     },
     "execution_count": 41,
     "metadata": {},
     "output_type": "execute_result"
    }
   ],
   "source": [
    "# Change the view\n",
    "z = x.view(1,9)\n",
    "z, z.shape"
   ]
  },
  {
   "cell_type": "code",
   "execution_count": 42,
   "metadata": {
    "colab": {
     "base_uri": "https://localhost:8080/"
    },
    "executionInfo": {
     "elapsed": 16,
     "status": "ok",
     "timestamp": 1730227503974,
     "user": {
      "displayName": "Paola Rocha",
      "userId": "05398982671622189547"
     },
     "user_tz": 360
    },
    "id": "eW0ZArZrH6RI",
    "outputId": "3228651b-8c3e-4f2e-ef06-0ee1744607d1"
   },
   "outputs": [
    {
     "data": {
      "text/plain": [
       "(tensor([[5., 2., 3., 4., 5., 6., 7., 8., 9.]]),\n",
       " tensor([5., 2., 3., 4., 5., 6., 7., 8., 9.]))"
      ]
     },
     "execution_count": 42,
     "metadata": {},
     "output_type": "execute_result"
    }
   ],
   "source": [
    "# Chainging z changes x\n",
    "z[:, 0] = 5\n",
    "z, x"
   ]
  },
  {
   "cell_type": "code",
   "execution_count": 43,
   "metadata": {
    "colab": {
     "base_uri": "https://localhost:8080/"
    },
    "executionInfo": {
     "elapsed": 16,
     "status": "ok",
     "timestamp": 1730227503974,
     "user": {
      "displayName": "Paola Rocha",
      "userId": "05398982671622189547"
     },
     "user_tz": 360
    },
    "id": "OGbXhQbZH6O8",
    "outputId": "462215ad-bcae-4b70-8331-e5643b5a4d3c"
   },
   "outputs": [
    {
     "data": {
      "text/plain": [
       "tensor([[5., 5., 5., 5.],\n",
       "        [2., 2., 2., 2.],\n",
       "        [3., 3., 3., 3.],\n",
       "        [4., 4., 4., 4.],\n",
       "        [5., 5., 5., 5.],\n",
       "        [6., 6., 6., 6.],\n",
       "        [7., 7., 7., 7.],\n",
       "        [8., 8., 8., 8.],\n",
       "        [9., 9., 9., 9.]])"
      ]
     },
     "execution_count": 43,
     "metadata": {},
     "output_type": "execute_result"
    }
   ],
   "source": [
    "# Stack tensors on top of each other\n",
    "x_stacked = torch.stack([x, x, x, x], dim=1)\n",
    "x_stacked"
   ]
  },
  {
   "cell_type": "code",
   "execution_count": 44,
   "metadata": {
    "colab": {
     "base_uri": "https://localhost:8080/"
    },
    "executionInfo": {
     "elapsed": 15,
     "status": "ok",
     "timestamp": 1730227503974,
     "user": {
      "displayName": "Paola Rocha",
      "userId": "05398982671622189547"
     },
     "user_tz": 360
    },
    "id": "5_0Im5ZjKTx0",
    "outputId": "f60cfb33-f74c-4288-bd82-efa2e69fe061"
   },
   "outputs": [
    {
     "data": {
      "text/plain": [
       "tensor([5., 2., 3., 4., 5., 6., 7., 8., 9.])"
      ]
     },
     "execution_count": 44,
     "metadata": {},
     "output_type": "execute_result"
    }
   ],
   "source": [
    "# Squeezing a tensor\n",
    "x_reshaped.squeeze()"
   ]
  },
  {
   "cell_type": "code",
   "execution_count": 45,
   "metadata": {
    "colab": {
     "base_uri": "https://localhost:8080/"
    },
    "executionInfo": {
     "elapsed": 14,
     "status": "ok",
     "timestamp": 1730227503974,
     "user": {
      "displayName": "Paola Rocha",
      "userId": "05398982671622189547"
     },
     "user_tz": 360
    },
    "id": "zdS8-wMjLE-m",
    "outputId": "6eae4b29-767e-4e4e-bf2a-8e3557f7828a"
   },
   "outputs": [
    {
     "name": "stdout",
     "output_type": "stream",
     "text": [
      "Previous tensor: tensor([[5., 2., 3., 4., 5., 6., 7., 8., 9.]])\n",
      "Previous shape: torch.Size([1, 9])\n",
      "\n",
      "New tensor: tensor([5., 2., 3., 4., 5., 6., 7., 8., 9.])\n",
      "New tensor: torch.Size([9])\n"
     ]
    }
   ],
   "source": [
    "print(f\"Previous tensor: {x_reshaped}\")\n",
    "print(f\"Previous shape: {x_reshaped.shape}\")\n",
    "x_squeezed = x_reshaped.squeeze()\n",
    "print(f\"\\nNew tensor: {x_squeezed}\")\n",
    "print(f\"New tensor: {x_squeezed.shape}\")"
   ]
  },
  {
   "cell_type": "code",
   "execution_count": 46,
   "metadata": {
    "colab": {
     "base_uri": "https://localhost:8080/"
    },
    "executionInfo": {
     "elapsed": 13,
     "status": "ok",
     "timestamp": 1730227503974,
     "user": {
      "displayName": "Paola Rocha",
      "userId": "05398982671622189547"
     },
     "user_tz": 360
    },
    "id": "D4imbV3wLfdd",
    "outputId": "b847b2ff-bcd5-47ec-c5ba-c39e3f4261fd"
   },
   "outputs": [
    {
     "name": "stdout",
     "output_type": "stream",
     "text": [
      "Previous tensor: tensor([5., 2., 3., 4., 5., 6., 7., 8., 9.])\n",
      "Previous shape: torch.Size([9])\n",
      "\n",
      "New tensor: tensor([[5., 2., 3., 4., 5., 6., 7., 8., 9.]])\n",
      "New tensor: torch.Size([1, 9])\n"
     ]
    }
   ],
   "source": [
    "# Unsqueeze\n",
    "print(f\"Previous tensor: {x_squeezed}\")\n",
    "print(f\"Previous shape: {x_squeezed.shape}\")\n",
    "\n",
    "x_unsqueezed = x_squeezed.unsqueeze(dim=0)\n",
    "print(f\"\\nNew tensor: {x_unsqueezed}\")\n",
    "print(f\"New tensor: {x_unsqueezed.shape}\")"
   ]
  },
  {
   "cell_type": "code",
   "execution_count": 47,
   "metadata": {
    "colab": {
     "base_uri": "https://localhost:8080/"
    },
    "executionInfo": {
     "elapsed": 12,
     "status": "ok",
     "timestamp": 1730227503974,
     "user": {
      "displayName": "Paola Rocha",
      "userId": "05398982671622189547"
     },
     "user_tz": 360
    },
    "id": "Px39yEspMD4q",
    "outputId": "ed28a766-1570-453a-d182-b301545e2ea3"
   },
   "outputs": [
    {
     "data": {
      "text/plain": [
       "torch.Size([224, 224, 3])"
      ]
     },
     "execution_count": 47,
     "metadata": {},
     "output_type": "execute_result"
    }
   ],
   "source": [
    "# Permute\n",
    "x_original = torch.rand(size=(224, 224, 3))  # [height, width, color]\n",
    "x_original.shape"
   ]
  },
  {
   "cell_type": "code",
   "execution_count": 48,
   "metadata": {
    "colab": {
     "base_uri": "https://localhost:8080/"
    },
    "executionInfo": {
     "elapsed": 11,
     "status": "ok",
     "timestamp": 1730227503974,
     "user": {
      "displayName": "Paola Rocha",
      "userId": "05398982671622189547"
     },
     "user_tz": 360
    },
    "id": "msUtLZ37M7FO",
    "outputId": "daef01ea-25a6-4c6f-e9e5-b4859e3928df"
   },
   "outputs": [
    {
     "data": {
      "text/plain": [
       "torch.Size([3, 224, 224])"
      ]
     },
     "execution_count": 48,
     "metadata": {},
     "output_type": "execute_result"
    }
   ],
   "source": [
    "x_permuted = torch.permute(x_original, (2, 0, 1)) # [color, height, width]\n",
    "x_permuted.shape"
   ]
  },
  {
   "cell_type": "markdown",
   "metadata": {
    "id": "DZtuBJqDOHpS"
   },
   "source": [
    "## Indexing (select data)\n",
    "\n",
    "Indexing with PyTorch is similar to indexing with Numpy."
   ]
  },
  {
   "cell_type": "code",
   "execution_count": 49,
   "metadata": {
    "colab": {
     "base_uri": "https://localhost:8080/"
    },
    "executionInfo": {
     "elapsed": 10,
     "status": "ok",
     "timestamp": 1730227503974,
     "user": {
      "displayName": "Paola Rocha",
      "userId": "05398982671622189547"
     },
     "user_tz": 360
    },
    "id": "y7ubOMwLNYFZ",
    "outputId": "5fd8f711-7416-496d-b07e-41064f2e4050"
   },
   "outputs": [
    {
     "data": {
      "text/plain": [
       "(tensor([[[1, 2, 3],\n",
       "          [4, 5, 6],\n",
       "          [7, 8, 9]]]),\n",
       " torch.Size([1, 3, 3]))"
      ]
     },
     "execution_count": 49,
     "metadata": {},
     "output_type": "execute_result"
    }
   ],
   "source": [
    "# Create tensor\n",
    "x = torch.arange(1, 10).reshape(1, 3, 3)\n",
    "x, x.shape"
   ]
  },
  {
   "cell_type": "code",
   "execution_count": 50,
   "metadata": {
    "colab": {
     "base_uri": "https://localhost:8080/"
    },
    "executionInfo": {
     "elapsed": 544,
     "status": "ok",
     "timestamp": 1730227504509,
     "user": {
      "displayName": "Paola Rocha",
      "userId": "05398982671622189547"
     },
     "user_tz": 360
    },
    "id": "VbeRoCHZOZWn",
    "outputId": "b943465e-4526-408f-a6dd-361cb67c992d"
   },
   "outputs": [
    {
     "data": {
      "text/plain": [
       "tensor([[1, 2, 3],\n",
       "        [4, 5, 6],\n",
       "        [7, 8, 9]])"
      ]
     },
     "execution_count": 50,
     "metadata": {},
     "output_type": "execute_result"
    }
   ],
   "source": [
    "# Indexing our tensor\n",
    "x[0]"
   ]
  },
  {
   "cell_type": "code",
   "execution_count": 51,
   "metadata": {
    "colab": {
     "base_uri": "https://localhost:8080/"
    },
    "executionInfo": {
     "elapsed": 18,
     "status": "ok",
     "timestamp": 1730227504509,
     "user": {
      "displayName": "Paola Rocha",
      "userId": "05398982671622189547"
     },
     "user_tz": 360
    },
    "id": "XVhQ4iQROsT9",
    "outputId": "9cf19300-25cc-448e-9d3c-272707ebdc31"
   },
   "outputs": [
    {
     "data": {
      "text/plain": [
       "tensor([1, 2, 3])"
      ]
     },
     "execution_count": 51,
     "metadata": {},
     "output_type": "execute_result"
    }
   ],
   "source": [
    "x[0, 0]"
   ]
  },
  {
   "cell_type": "code",
   "execution_count": 52,
   "metadata": {
    "colab": {
     "base_uri": "https://localhost:8080/"
    },
    "executionInfo": {
     "elapsed": 17,
     "status": "ok",
     "timestamp": 1730227504509,
     "user": {
      "displayName": "Paola Rocha",
      "userId": "05398982671622189547"
     },
     "user_tz": 360
    },
    "id": "p1HYTn8wOyyw",
    "outputId": "76c66c67-1098-4b8c-ee83-634718cc81e9"
   },
   "outputs": [
    {
     "data": {
      "text/plain": [
       "tensor(5)"
      ]
     },
     "execution_count": 52,
     "metadata": {},
     "output_type": "execute_result"
    }
   ],
   "source": [
    "x[0, 1, 1]"
   ]
  },
  {
   "cell_type": "code",
   "execution_count": 53,
   "metadata": {
    "colab": {
     "base_uri": "https://localhost:8080/"
    },
    "executionInfo": {
     "elapsed": 16,
     "status": "ok",
     "timestamp": 1730227504509,
     "user": {
      "displayName": "Paola Rocha",
      "userId": "05398982671622189547"
     },
     "user_tz": 360
    },
    "id": "8r1c5DjrQCjQ",
    "outputId": "f3b5fc26-817f-4bb4-92a2-4f92277e0a0d"
   },
   "outputs": [
    {
     "data": {
      "text/plain": [
       "tensor([[2, 5, 8]])"
      ]
     },
     "execution_count": 53,
     "metadata": {},
     "output_type": "execute_result"
    }
   ],
   "source": [
    "x[:, :, 1]"
   ]
  },
  {
   "cell_type": "code",
   "execution_count": 54,
   "metadata": {
    "colab": {
     "base_uri": "https://localhost:8080/"
    },
    "executionInfo": {
     "elapsed": 15,
     "status": "ok",
     "timestamp": 1730227504509,
     "user": {
      "displayName": "Paola Rocha",
      "userId": "05398982671622189547"
     },
     "user_tz": 360
    },
    "id": "sit7S4zQQ50g",
    "outputId": "7f455743-9301-4b04-eb10-8bb44aa46f5a"
   },
   "outputs": [
    {
     "data": {
      "text/plain": [
       "tensor([[[1, 2, 3],\n",
       "         [4, 5, 6]]])"
      ]
     },
     "execution_count": 54,
     "metadata": {},
     "output_type": "execute_result"
    }
   ],
   "source": [
    "x[:, 0:2]"
   ]
  },
  {
   "cell_type": "code",
   "execution_count": 55,
   "metadata": {
    "colab": {
     "base_uri": "https://localhost:8080/"
    },
    "executionInfo": {
     "elapsed": 14,
     "status": "ok",
     "timestamp": 1730227504510,
     "user": {
      "displayName": "Paola Rocha",
      "userId": "05398982671622189547"
     },
     "user_tz": 360
    },
    "id": "IiEiUh0SRHeP",
    "outputId": "b339a6bb-efaa-4906-e6fd-ac6b1f3ea5ea"
   },
   "outputs": [
    {
     "data": {
      "text/plain": [
       "tensor([1, 2, 3])"
      ]
     },
     "execution_count": 55,
     "metadata": {},
     "output_type": "execute_result"
    }
   ],
   "source": [
    "x[0, 0, :]"
   ]
  },
  {
   "cell_type": "markdown",
   "metadata": {
    "id": "CuDJxuca_o0T"
   },
   "source": [
    "## PyTorch tensors and NumPy"
   ]
  },
  {
   "cell_type": "code",
   "execution_count": 56,
   "metadata": {
    "colab": {
     "base_uri": "https://localhost:8080/"
    },
    "executionInfo": {
     "elapsed": 12,
     "status": "ok",
     "timestamp": 1730227504510,
     "user": {
      "displayName": "Paola Rocha",
      "userId": "05398982671622189547"
     },
     "user_tz": 360
    },
    "id": "1kPehUW7RWLC",
    "outputId": "c27cf6db-f424-4fe6-e295-09847e65dc1e"
   },
   "outputs": [
    {
     "data": {
      "text/plain": [
       "(array([1., 2., 3., 4., 5., 6., 7.]),\n",
       " tensor([1., 2., 3., 4., 5., 6., 7.], dtype=torch.float64))"
      ]
     },
     "execution_count": 56,
     "metadata": {},
     "output_type": "execute_result"
    }
   ],
   "source": [
    "# Numpy array to tensor\n",
    "import numpy as np\n",
    "\n",
    "array = np.arange(1.0, 8.0)\n",
    "tensor = torch.from_numpy(array) # WRN: When converting from numpy to pytorch, it has de default data type from numpy\n",
    "array, tensor"
   ]
  },
  {
   "cell_type": "code",
   "execution_count": 57,
   "metadata": {
    "colab": {
     "base_uri": "https://localhost:8080/"
    },
    "executionInfo": {
     "elapsed": 11,
     "status": "ok",
     "timestamp": 1730227504510,
     "user": {
      "displayName": "Paola Rocha",
      "userId": "05398982671622189547"
     },
     "user_tz": 360
    },
    "id": "UdF3ucfwAARW",
    "outputId": "ca04bd3c-7b02-49d2-d0ad-99061a2a3fe2"
   },
   "outputs": [
    {
     "data": {
      "text/plain": [
       "dtype('float64')"
      ]
     },
     "execution_count": 57,
     "metadata": {},
     "output_type": "execute_result"
    }
   ],
   "source": [
    "array.dtype"
   ]
  },
  {
   "cell_type": "code",
   "execution_count": 58,
   "metadata": {
    "colab": {
     "base_uri": "https://localhost:8080/"
    },
    "executionInfo": {
     "elapsed": 10,
     "status": "ok",
     "timestamp": 1730227504510,
     "user": {
      "displayName": "Paola Rocha",
      "userId": "05398982671622189547"
     },
     "user_tz": 360
    },
    "id": "oApHXREaAE9K",
    "outputId": "fa272966-37cc-403a-d7c3-2fa3798826e1"
   },
   "outputs": [
    {
     "data": {
      "text/plain": [
       "torch.float32"
      ]
     },
     "execution_count": 58,
     "metadata": {},
     "output_type": "execute_result"
    }
   ],
   "source": [
    "torch.arange(1.0, 8.0).dtype"
   ]
  },
  {
   "cell_type": "code",
   "execution_count": 59,
   "metadata": {
    "colab": {
     "base_uri": "https://localhost:8080/"
    },
    "executionInfo": {
     "elapsed": 9,
     "status": "ok",
     "timestamp": 1730227504510,
     "user": {
      "displayName": "Paola Rocha",
      "userId": "05398982671622189547"
     },
     "user_tz": 360
    },
    "id": "bYOUJiDyAOMb",
    "outputId": "0822e6b0-8ab5-4a28-d393-58df8ba5d34a"
   },
   "outputs": [
    {
     "data": {
      "text/plain": [
       "(array([2., 3., 4., 5., 6., 7., 8.]),\n",
       " tensor([1., 2., 3., 4., 5., 6., 7.], dtype=torch.float64))"
      ]
     },
     "execution_count": 59,
     "metadata": {},
     "output_type": "execute_result"
    }
   ],
   "source": [
    "# A change in the value of array, does NOT change values in tensor\n",
    "array = array + 1\n",
    "array, tensor"
   ]
  },
  {
   "cell_type": "code",
   "execution_count": 60,
   "metadata": {
    "colab": {
     "base_uri": "https://localhost:8080/"
    },
    "executionInfo": {
     "elapsed": 8,
     "status": "ok",
     "timestamp": 1730227504510,
     "user": {
      "displayName": "Paola Rocha",
      "userId": "05398982671622189547"
     },
     "user_tz": 360
    },
    "id": "3xEXM-JuAnHm",
    "outputId": "a0e1f132-fd39-497e-fa9e-61307918f00d"
   },
   "outputs": [
    {
     "data": {
      "text/plain": [
       "(tensor([1., 1., 1., 1., 1., 1., 1.]),\n",
       " array([1., 1., 1., 1., 1., 1., 1.], dtype=float32))"
      ]
     },
     "execution_count": 60,
     "metadata": {},
     "output_type": "execute_result"
    }
   ],
   "source": [
    "# Tensor to numpy\n",
    "tensor = torch.ones(7)\n",
    "numpy_tensor = tensor.numpy()\n",
    "tensor, numpy_tensor"
   ]
  },
  {
   "cell_type": "code",
   "execution_count": 61,
   "metadata": {
    "colab": {
     "base_uri": "https://localhost:8080/"
    },
    "executionInfo": {
     "elapsed": 7,
     "status": "ok",
     "timestamp": 1730227504510,
     "user": {
      "displayName": "Paola Rocha",
      "userId": "05398982671622189547"
     },
     "user_tz": 360
    },
    "id": "5Qv8qt3UA3sQ",
    "outputId": "d7383a51-e10f-449f-c207-09172f2681d8"
   },
   "outputs": [
    {
     "data": {
      "text/plain": [
       "(tensor([2., 2., 2., 2., 2., 2., 2.]),\n",
       " array([1., 1., 1., 1., 1., 1., 1.], dtype=float32))"
      ]
     },
     "execution_count": 61,
     "metadata": {},
     "output_type": "execute_result"
    }
   ],
   "source": [
    "# A change in the value of tensor, does NOT change values in array\n",
    "tensor = tensor + 1\n",
    "tensor, numpy_tensor"
   ]
  },
  {
   "cell_type": "markdown",
   "metadata": {
    "id": "LpPkbGmcBbpQ"
   },
   "source": [
    "## Reproducibility\n",
    "\n",
    "To reduce the randomness in neural networks, comes the concept of a **random seed**"
   ]
  },
  {
   "cell_type": "code",
   "execution_count": 62,
   "metadata": {
    "colab": {
     "base_uri": "https://localhost:8080/"
    },
    "executionInfo": {
     "elapsed": 6,
     "status": "ok",
     "timestamp": 1730227504510,
     "user": {
      "displayName": "Paola Rocha",
      "userId": "05398982671622189547"
     },
     "user_tz": 360
    },
    "id": "W6K93j3XBGuX",
    "outputId": "b501c11e-0b51-4dcc-f312-f8a938402281"
   },
   "outputs": [
    {
     "data": {
      "text/plain": [
       "tensor([[False, False, False, False],\n",
       "        [False, False, False, False],\n",
       "        [False, False, False, False]])"
      ]
     },
     "execution_count": 62,
     "metadata": {},
     "output_type": "execute_result"
    }
   ],
   "source": [
    "# Create 2 random tensors\n",
    "random_tensor_A = torch.rand(3, 4)\n",
    "random_tensor_B = torch.rand(3, 4)\n",
    "\n",
    "random_tensor_A == random_tensor_B"
   ]
  },
  {
   "cell_type": "code",
   "execution_count": 63,
   "metadata": {
    "colab": {
     "base_uri": "https://localhost:8080/"
    },
    "executionInfo": {
     "elapsed": 5,
     "status": "ok",
     "timestamp": 1730227504510,
     "user": {
      "displayName": "Paola Rocha",
      "userId": "05398982671622189547"
     },
     "user_tz": 360
    },
    "id": "aAhfA0faCXuy",
    "outputId": "086d9813-4b21-4688-92f6-a3196d06f37a"
   },
   "outputs": [
    {
     "data": {
      "text/plain": [
       "tensor([[True, True, True, True],\n",
       "        [True, True, True, True],\n",
       "        [True, True, True, True]])"
      ]
     },
     "execution_count": 63,
     "metadata": {},
     "output_type": "execute_result"
    }
   ],
   "source": [
    "# Reproducible tensors by setting seeds\n",
    "RANDOM_SEED = 42\n",
    "torch.manual_seed(RANDOM_SEED)\n",
    "random_tensor_C = torch.rand(3, 4)\n",
    "\n",
    "torch.manual_seed(RANDOM_SEED)\n",
    "random_tensor_D = torch.rand(3, 4)\n",
    "\n",
    "random_tensor_C == random_tensor_D"
   ]
  },
  {
   "cell_type": "code",
   "execution_count": null,
   "metadata": {
    "executionInfo": {
     "elapsed": 4,
     "status": "ok",
     "timestamp": 1730227504510,
     "user": {
      "displayName": "Paola Rocha",
      "userId": "05398982671622189547"
     },
     "user_tz": 360
    },
    "id": "esVeJMz2DE2t"
   },
   "outputs": [],
   "source": []
  }
 ],
 "metadata": {
  "colab": {
   "authorship_tag": "ABX9TyMR+Q+sNbQ4/aBf0wMij2bv",
   "gpuType": "T4",
   "provenance": []
  },
  "kernelspec": {
   "display_name": "venv",
   "language": "python",
   "name": "python3"
  },
  "language_info": {
   "codemirror_mode": {
    "name": "ipython",
    "version": 3
   },
   "file_extension": ".py",
   "mimetype": "text/x-python",
   "name": "python",
   "nbconvert_exporter": "python",
   "pygments_lexer": "ipython3",
   "version": "3.10.15"
  }
 },
 "nbformat": 4,
 "nbformat_minor": 0
}
